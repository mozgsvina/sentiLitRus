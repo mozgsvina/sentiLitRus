{
 "cells": [
  {
   "cell_type": "code",
   "execution_count": 1,
   "metadata": {},
   "outputs": [
    {
     "name": "stdout",
     "output_type": "stream",
     "text": [
      "The number of words in the corpus: 37567\n",
      "The number of unique lemmas in the corpus: 7075\n"
     ]
    }
   ],
   "source": [
    "import pandas as pd\n",
    "\n",
    "# read vector data\n",
    "sent_scores = pd.read_csv(\"static/emo_vectores_602_loc_md.csv\")\n",
    "\n",
    "# read lemmatized texts\n",
    "lemmas_per_story_df = pd.read_csv(\"data/lemmatized_stories.csv\")\n",
    "lemmas_per_story_df[\"n_words\"] = lemmas_per_story_df[\"lemmas\"].apply(lambda x: len(x.split()))\n",
    "\n",
    "lemmas_per_story_dict = {}\n",
    "for index, row in lemmas_per_story_df.iterrows():\n",
    "    story_id = row['StoryID']\n",
    "    lemmas = row['lemmas'].split()\n",
    "    lemmas_per_story_dict[story_id] = lemmas\n",
    "\n",
    "# fmake list of all words(lemmas)\n",
    "all_lemmas = []\n",
    "for idx in lemmas_per_story_dict:\n",
    "    all_lemmas.extend(lemmas_per_story_dict[idx])\n",
    "\n",
    "# list of types (unique lemmas)\n",
    "unique_lemmas = list(set(all_lemmas))\n",
    "\n",
    "print(f\"The number of words in the corpus: {len(all_lemmas)}\")\n",
    "print(f\"The number of unique lemmas in the corpus: {len(unique_lemmas)}\")"
   ]
  },
  {
   "cell_type": "code",
   "execution_count": 2,
   "metadata": {},
   "outputs": [],
   "source": [
    "# define emotion labels list to explore\n",
    "# labels = list(sent_scores.columns)[1:]  # [\"happy\", \"pleas\", \"cont\", \"pride\", \"relief\", \"amuse', 'surp', 'sad', 'fear', 'disgust', 'shame', 'anger']\n",
    "labels = [\"happy\", \"pleas\", \"sad\"]"
   ]
  },
  {
   "cell_type": "code",
   "execution_count": 3,
   "metadata": {},
   "outputs": [
    {
     "name": "stdout",
     "output_type": "stream",
     "text": [
      "Creating list of happy words\n",
      "Creating list of pleas words\n",
      "Creating list of sad words\n"
     ]
    }
   ],
   "source": [
    "# TODO: read from files\n",
    "\n",
    "from emo_functions import get_emo_words\n",
    "\n",
    "# this takes some time going thorigh all vercor data\n",
    "emo_word_dict = get_emo_words(unique_lemmas, labels)"
   ]
  },
  {
   "cell_type": "code",
   "execution_count": 4,
   "metadata": {},
   "outputs": [],
   "source": [
    "# count words, freqs and scores for each emotional word in corpus per each emotion based in lists from get_emo_words()\n",
    "from emo_functions import get_scores_and_freqs\n",
    "emo_words_data = get_scores_and_freqs(emo_word_dict, all_lemmas)\n",
    "\n",
    "# save lexicons to csv\n",
    "for emotion in emo_words_data:\n",
    "    df = pd.DataFrame(emo_words_data[emotion])\n",
    "    df.to_csv(f\"results/lexicons/{emotion}_lexicon.csv\", index=False)\n"
   ]
  },
  {
   "cell_type": "code",
   "execution_count": 5,
   "metadata": {},
   "outputs": [
    {
     "name": "stdout",
     "output_type": "stream",
     "text": [
      "{'happy': [{'lemma': 'упоение', 'freq': 2, 'score': 0.4116482}, {'lemma': 'счастие', 'freq': 32, 'score': 0.8145565}, {'lemma': 'красота', 'freq': 19, 'score': 0.40538603}, {'lemma': 'прелесть', 'freq': 1, 'score': 0.43166476}, {'lemma': 'радоваться', 'freq': 3, 'score': 0.43464622}, {'lemma': 'осчастливленная', 'freq': 1, 'score': 0.40145236}, {'lemma': 'радостный', 'freq': 4, 'score': 0.42917}, {'lemma': 'жизнь', 'freq': 96, 'score': 0.41600302}, {'lemma': 'бедняжка', 'freq': 1, 'score': 0.4208307}, {'lemma': 'спасение', 'freq': 1, 'score': 0.40139747}, {'lemma': 'успех', 'freq': 4, 'score': 0.42934263}, {'lemma': 'разочарование', 'freq': 4, 'score': 0.40357244}, {'lemma': 'потому', 'freq': 12, 'score': 0.4315129}, {'lemma': 'радость', 'freq': 16, 'score': 0.6290357}, {'lemma': 'утешение', 'freq': 1, 'score': 0.46744418}, {'lemma': 'горе', 'freq': 7, 'score': 0.49296218}, {'lemma': 'грезиться', 'freq': 2, 'score': 0.40239233}, {'lemma': 'случайность', 'freq': 2, 'score': 0.41162673}, {'lemma': 'свобода', 'freq': 1, 'score': 0.41078213}, {'lemma': 'оттого', 'freq': 8, 'score': 0.45777163}, {'lemma': 'удовольствие', 'freq': 6, 'score': 0.46809018}, {'lemma': 'горесть', 'freq': 2, 'score': 0.4778971}, {'lemma': 'страдание', 'freq': 9, 'score': 0.4958671}, {'lemma': 'будущность', 'freq': 1, 'score': 0.47586784}, {'lemma': 'беда', 'freq': 4, 'score': 0.4934929}, {'lemma': 'неизведанный', 'freq': 2, 'score': 0.4022353}, {'lemma': 'доброта', 'freq': 3, 'score': 0.4079659}, {'lemma': 'вечность', 'freq': 2, 'score': 0.40050447}, {'lemma': 'блаженство', 'freq': 2, 'score': 0.5974554}, {'lemma': 'вдохновение', 'freq': 1, 'score': 0.4389364}, {'lemma': 'восторг', 'freq': 4, 'score': 0.43020254}, {'lemma': 'слава', 'freq': 3, 'score': 0.47014236}, {'lemma': 'всепрощающие', 'freq': 1, 'score': 0.40604568}, {'lemma': 'несчастие', 'freq': 2, 'score': 0.55925083}, {'lemma': 'счастливый', 'freq': 15, 'score': 0.6223557}, {'lemma': 'ею', 'freq': 6, 'score': 0.4927587}, {'lemma': 'мечта', 'freq': 8, 'score': 0.41734484}, {'lemma': 'любовь', 'freq': 35, 'score': 0.48623878}, {'lemma': 'печаль', 'freq': 3, 'score': 0.40185156}], 'pleas': [{'lemma': 'жадно', 'freq': 3, 'score': 0.42998612}, {'lemma': 'злорадство', 'freq': 2, 'score': 0.45025265}, {'lemma': 'гадость', 'freq': 2, 'score': 0.42130584}, {'lemma': 'извращение', 'freq': 1, 'score': 0.40353101}, {'lemma': 'изнеможение', 'freq': 1, 'score': 0.4383983}, {'lemma': 'увлечение', 'freq': 6, 'score': 0.47932822}, {'lemma': 'упоение', 'freq': 2, 'score': 0.6559231}, {'lemma': 'опьянять', 'freq': 1, 'score': 0.41860154}, {'lemma': 'сопение', 'freq': 1, 'score': 0.40345186}, {'lemma': 'воздыхание', 'freq': 1, 'score': 0.4385264}, {'lemma': 'счастие', 'freq': 32, 'score': 0.5470028}, {'lemma': 'страсть', 'freq': 16, 'score': 0.45867282}, {'lemma': 'скука', 'freq': 2, 'score': 0.40863782}, {'lemma': 'прелесть', 'freq': 1, 'score': 0.4753482}, {'lemma': 'восхищая', 'freq': 1, 'score': 0.4206084}, {'lemma': 'нега', 'freq': 1, 'score': 0.40741676}, {'lemma': 'сладкий', 'freq': 6, 'score': 0.45733163}, {'lemma': 'умиление', 'freq': 1, 'score': 0.47980332}, {'lemma': 'несладкий', 'freq': 1, 'score': 0.4110802}, {'lemma': 'нестерпимой', 'freq': 1, 'score': 0.4043897}, {'lemma': 'комфорт', 'freq': 1, 'score': 0.42357212}, {'lemma': 'неутолённый', 'freq': 1, 'score': 0.44312412}, {'lemma': 'созерцать', 'freq': 1, 'score': 0.4525063}, {'lemma': 'пресытиться', 'freq': 1, 'score': 0.43841872}, {'lemma': 'любоваться', 'freq': 2, 'score': 0.40386683}, {'lemma': 'утонченность', 'freq': 1, 'score': 0.4157382}, {'lemma': 'успокоение', 'freq': 1, 'score': 0.40383086}, {'lemma': 'разочарование', 'freq': 4, 'score': 0.41445458}, {'lemma': 'чувство', 'freq': 32, 'score': 0.43295842}, {'lemma': 'чувственный', 'freq': 2, 'score': 0.46232444}, {'lemma': 'восторгался', 'freq': 1, 'score': 0.4151929}, {'lemma': 'радость', 'freq': 16, 'score': 0.5725845}, {'lemma': 'утешение', 'freq': 1, 'score': 0.48911715}, {'lemma': 'веселие', 'freq': 5, 'score': 0.4287979}, {'lemma': 'невыразимый', 'freq': 1, 'score': 0.47028765}, {'lemma': 'восхитительный', 'freq': 2, 'score': 0.48519418}, {'lemma': 'роскошь', 'freq': 1, 'score': 0.40980938}, {'lemma': 'алость', 'freq': 1, 'score': 0.41738915}, {'lemma': 'утончённый', 'freq': 1, 'score': 0.41155395}, {'lemma': 'неутолимый', 'freq': 2, 'score': 0.42178455}, {'lemma': 'обожание', 'freq': 1, 'score': 0.48806992}, {'lemma': 'сладострастие', 'freq': 1, 'score': 0.6508637}, {'lemma': 'жадность', 'freq': 3, 'score': 0.5250149}, {'lemma': 'сладко', 'freq': 7, 'score': 0.40128452}, {'lemma': 'мечтательный', 'freq': 1, 'score': 0.40371445}, {'lemma': 'удовольствие', 'freq': 6, 'score': 0.76629794}, {'lemma': 'исступление', 'freq': 2, 'score': 0.4266408}, {'lemma': 'праздность', 'freq': 1, 'score': 0.4082485}, {'lemma': 'жаждать', 'freq': 3, 'score': 0.45480525}, {'lemma': 'ощущение', 'freq': 2, 'score': 0.5051803}, {'lemma': 'переживание', 'freq': 1, 'score': 0.4328813}, {'lemma': 'пристрастие', 'freq': 2, 'score': 0.409526}, {'lemma': 'страдание', 'freq': 9, 'score': 0.51531243}, {'lemma': 'любопытство', 'freq': 4, 'score': 0.41018522}, {'lemma': 'чаёк', 'freq': 3, 'score': 0.45282438}, {'lemma': 'приятный', 'freq': 5, 'score': 0.43258774}, {'lemma': 'восторгать', 'freq': 1, 'score': 0.41670042}, {'lemma': 'экстаз', 'freq': 2, 'score': 0.4193887}, {'lemma': 'упоительный', 'freq': 1, 'score': 0.440152}, {'lemma': 'злорадный', 'freq': 1, 'score': 0.41320026}, {'lemma': 'унижение', 'freq': 1, 'score': 0.4710389}, {'lemma': 'жгучий', 'freq': 8, 'score': 0.40962473}, {'lemma': 'волнение', 'freq': 5, 'score': 0.42585865}, {'lemma': 'утоление', 'freq': 1, 'score': 0.58326876}, {'lemma': 'забава', 'freq': 1, 'score': 0.41728604}, {'lemma': 'забвение', 'freq': 2, 'score': 0.43600813}, {'lemma': 'нём', 'freq': 1, 'score': 0.4138507}, {'lemma': 'блаженство', 'freq': 2, 'score': 0.60594046}, {'lemma': 'пробуждение', 'freq': 1, 'score': 0.43231305}, {'lemma': 'вдохновение', 'freq': 1, 'score': 0.5313903}, {'lemma': 'восторг', 'freq': 4, 'score': 0.5055528}, {'lemma': 'наваждение', 'freq': 1, 'score': 0.4486232}, {'lemma': 'тоска', 'freq': 21, 'score': 0.4084375}, {'lemma': 'раскаяние', 'freq': 5, 'score': 0.41247806}, {'lemma': 'развлечение', 'freq': 1, 'score': 0.49452573}, {'lemma': 'угрызение', 'freq': 1, 'score': 0.45532125}, {'lemma': 'ею', 'freq': 6, 'score': 0.48526806}, {'lemma': 'опьянеть', 'freq': 1, 'score': 0.41308856}, {'lemma': 'сладостный', 'freq': 2, 'score': 0.5546138}, {'lemma': 'отвращение', 'freq': 5, 'score': 0.54359865}, {'lemma': 'любовь', 'freq': 35, 'score': 0.42187086}, {'lemma': 'отрезвление', 'freq': 1, 'score': 0.4214391}, {'lemma': 'напоенный', 'freq': 1, 'score': 0.42960507}, {'lemma': 'жажда', 'freq': 2, 'score': 0.51276684}, {'lemma': 'испытывать', 'freq': 2, 'score': 0.4003897}, {'lemma': 'жалость', 'freq': 1, 'score': 0.416053}], 'sad': [{'lemma': 'жались', 'freq': 1, 'score': 0.43544465}, {'lemma': 'брезгливый', 'freq': 1, 'score': 0.41531247}, {'lemma': 'тоскливо', 'freq': 2, 'score': 0.5178007}, {'lemma': 'тоскую', 'freq': 1, 'score': 0.5624704}, {'lemma': 'отчаяние', 'freq': 7, 'score': 0.52968866}, {'lemma': 'смятение', 'freq': 1, 'score': 0.4426337}, {'lemma': 'злорадство', 'freq': 2, 'score': 0.5346499}, {'lemma': 'чувствоваться', 'freq': 7, 'score': 0.4077182}, {'lemma': 'трепет', 'freq': 2, 'score': 0.4266193}, {'lemma': 'деликатность', 'freq': 1, 'score': 0.4169464}, {'lemma': 'утешать', 'freq': 1, 'score': 0.40469968}, {'lemma': 'задумчиво', 'freq': 2, 'score': 0.48306075}, {'lemma': 'мрачный', 'freq': 3, 'score': 0.43578774}, {'lemma': 'безнадёжность', 'freq': 1, 'score': 0.47105357}, {'lemma': 'искренний', 'freq': 3, 'score': 0.4102555}, {'lemma': 'скорбь', 'freq': 2, 'score': 0.61987805}, {'lemma': 'воздыхание', 'freq': 1, 'score': 0.46420908}, {'lemma': 'тоскливый', 'freq': 2, 'score': 0.5895388}, {'lemma': 'дремота', 'freq': 1, 'score': 0.52623796}, {'lemma': 'улыбающаяся', 'freq': 1, 'score': 0.42983758}, {'lemma': 'скука', 'freq': 2, 'score': 0.523177}, {'lemma': 'испуг', 'freq': 2, 'score': 0.47461057}, {'lemma': 'прелесть', 'freq': 1, 'score': 0.42210728}, {'lemma': 'покорюсь', 'freq': 1, 'score': 0.40045208}, {'lemma': 'высокомерие', 'freq': 1, 'score': 0.40255964}, {'lemma': 'успокойся', 'freq': 2, 'score': 0.46718735}, {'lemma': 'валяюсь', 'freq': 1, 'score': 0.4205131}, {'lemma': 'томившееся', 'freq': 1, 'score': 0.487887}, {'lemma': 'нега', 'freq': 1, 'score': 0.44538802}, {'lemma': 'злоба', 'freq': 7, 'score': 0.45978284}, {'lemma': 'сладкий', 'freq': 6, 'score': 0.41274732}, {'lemma': 'лукавство', 'freq': 1, 'score': 0.4519901}, {'lemma': 'радостный', 'freq': 4, 'score': 0.4851531}, {'lemma': 'умиление', 'freq': 1, 'score': 0.5505688}, {'lemma': 'отдышавшись', 'freq': 1, 'score': 0.41774473}, {'lemma': 'задумчивый', 'freq': 1, 'score': 0.56638783}, {'lemma': 'спокойствие', 'freq': 3, 'score': 0.41637266}, {'lemma': 'досадливый', 'freq': 1, 'score': 0.48101532}, {'lemma': 'сокрушалась', 'freq': 1, 'score': 0.43205363}, {'lemma': 'печально', 'freq': 1, 'score': 0.4949657}, {'lemma': 'одиночество', 'freq': 8, 'score': 0.48866037}, {'lemma': 'гнев', 'freq': 1, 'score': 0.40526837}, {'lemma': 'приветливость', 'freq': 1, 'score': 0.45380393}, {'lemma': 'настрадалась', 'freq': 1, 'score': 0.40744913}, {'lemma': 'сожаление', 'freq': 3, 'score': 0.45970735}, {'lemma': 'задушевный', 'freq': 1, 'score': 0.46672028}, {'lemma': 'опечалить', 'freq': 1, 'score': 0.44885594}, {'lemma': 'неутолённый', 'freq': 1, 'score': 0.41059464}, {'lemma': 'растрогать', 'freq': 2, 'score': 0.42832416}, {'lemma': 'досадный', 'freq': 1, 'score': 0.41220397}, {'lemma': 'холодность', 'freq': 1, 'score': 0.41155416}, {'lemma': 'мимолетно', 'freq': 1, 'score': 0.45566475}, {'lemma': 'горечь', 'freq': 5, 'score': 0.71780944}, {'lemma': 'щемила', 'freq': 1, 'score': 0.45579565}, {'lemma': 'ласка', 'freq': 11, 'score': 0.4232335}, {'lemma': 'плакать', 'freq': 19, 'score': 0.43474203}, {'lemma': 'насмешливый', 'freq': 2, 'score': 0.44822437}, {'lemma': 'томительный', 'freq': 3, 'score': 0.4189615}, {'lemma': 'ненависть', 'freq': 4, 'score': 0.42508388}, {'lemma': 'всепрощающего', 'freq': 1, 'score': 0.45343414}, {'lemma': 'безысходный', 'freq': 1, 'score': 0.4913932}, {'lemma': 'заботливость', 'freq': 1, 'score': 0.43309522}, {'lemma': 'кроткий', 'freq': 2, 'score': 0.41364}, {'lemma': 'разочарование', 'freq': 4, 'score': 0.5048297}, {'lemma': 'участливость', 'freq': 1, 'score': 0.45145264}, {'lemma': 'чувство', 'freq': 32, 'score': 0.49552566}, {'lemma': 'уверенность', 'freq': 1, 'score': 0.41836917}, {'lemma': 'плач', 'freq': 1, 'score': 0.41994923}, {'lemma': 'усталость', 'freq': 2, 'score': 0.47024512}, {'lemma': 'кротость', 'freq': 1, 'score': 0.42642432}, {'lemma': 'смутный', 'freq': 4, 'score': 0.41050315}, {'lemma': 'радость', 'freq': 16, 'score': 0.53202057}, {'lemma': 'успокойтесь', 'freq': 1, 'score': 0.41856194}, {'lemma': 'утешение', 'freq': 1, 'score': 0.43444255}, {'lemma': 'веселие', 'freq': 5, 'score': 0.45709684}, {'lemma': 'сочувствие', 'freq': 1, 'score': 0.457637}, {'lemma': 'мечтатель', 'freq': 1, 'score': 0.40405414}, {'lemma': 'невыразимый', 'freq': 1, 'score': 0.5164739}, {'lemma': 'лирический', 'freq': 1, 'score': 0.4157267}, {'lemma': 'горе', 'freq': 7, 'score': 0.5016363}, {'lemma': 'алость', 'freq': 1, 'score': 0.5414183}, {'lemma': 'улыбалось', 'freq': 2, 'score': 0.4819554}, {'lemma': 'неутоленность', 'freq': 1, 'score': 0.4150403}, {'lemma': 'душевный', 'freq': 6, 'score': 0.43261433}, {'lemma': 'грусть', 'freq': 2, 'score': 0.99999994}, {'lemma': 'горький', 'freq': 7, 'score': 0.42032593}, {'lemma': 'печальный', 'freq': 5, 'score': 0.54288965}, {'lemma': 'усмехнувшись', 'freq': 1, 'score': 0.4684446}, {'lemma': 'застенчивость', 'freq': 1, 'score': 0.4413157}, {'lemma': 'хмурый', 'freq': 1, 'score': 0.42690593}, {'lemma': 'смешок', 'freq': 1, 'score': 0.40161198}, {'lemma': 'тосковать', 'freq': 3, 'score': 0.47150177}, {'lemma': 'томит', 'freq': 1, 'score': 0.40534088}, {'lemma': 'невольно', 'freq': 5, 'score': 0.402478}, {'lemma': 'ласковый', 'freq': 8, 'score': 0.40079093}, {'lemma': 'сладострастие', 'freq': 1, 'score': 0.40316826}, {'lemma': 'удивление', 'freq': 6, 'score': 0.44934317}, {'lemma': 'грустный', 'freq': 7, 'score': 0.7231973}, {'lemma': 'недоумение', 'freq': 2, 'score': 0.49589732}, {'lemma': 'раздумье', 'freq': 3, 'score': 0.5160867}, {'lemma': 'угрюмо', 'freq': 1, 'score': 0.40598315}, {'lemma': 'бледность', 'freq': 2, 'score': 0.4251126}, {'lemma': 'слипавшимися', 'freq': 1, 'score': 0.40592706}, {'lemma': 'невольный', 'freq': 1, 'score': 0.4422316}, {'lemma': 'скорбеть', 'freq': 1, 'score': 0.4216792}, {'lemma': 'мечтательный', 'freq': 1, 'score': 0.47700924}, {'lemma': 'запнувшись', 'freq': 1, 'score': 0.42188042}, {'lemma': 'горесть', 'freq': 2, 'score': 0.62593263}, {'lemma': 'малодушие', 'freq': 1, 'score': 0.44852024}, {'lemma': 'грустно', 'freq': 4, 'score': 0.6495609}, {'lemma': 'тревога', 'freq': 4, 'score': 0.5390178}, {'lemma': 'обида', 'freq': 2, 'score': 0.43029675}, {'lemma': 'иронически', 'freq': 1, 'score': 0.42542535}, {'lemma': 'переживание', 'freq': 1, 'score': 0.4116466}, {'lemma': 'страдание', 'freq': 9, 'score': 0.49390295}, {'lemma': 'рыдание', 'freq': 4, 'score': 0.4288457}, {'lemma': 'любопытство', 'freq': 4, 'score': 0.40476927}, {'lemma': 'тревожный', 'freq': 7, 'score': 0.44032022}, {'lemma': 'равнодушие', 'freq': 2, 'score': 0.46005297}, {'lemma': 'страх', 'freq': 6, 'score': 0.43574375}, {'lemma': 'предчувствие', 'freq': 2, 'score': 0.44517338}, {'lemma': 'мучительно', 'freq': 2, 'score': 0.4089643}, {'lemma': 'гордость', 'freq': 2, 'score': 0.461148}, {'lemma': 'тревожно', 'freq': 8, 'score': 0.40424526}, {'lemma': 'странность', 'freq': 1, 'score': 0.40994835}, {'lemma': 'воспоминание', 'freq': 9, 'score': 0.40902826}, {'lemma': 'безлунный', 'freq': 1, 'score': 0.40383264}, {'lemma': 'сумрачный', 'freq': 1, 'score': 0.4360891}, {'lemma': 'усмешка', 'freq': 3, 'score': 0.5308552}, {'lemma': 'злорадный', 'freq': 1, 'score': 0.46507555}, {'lemma': 'снисходительность', 'freq': 1, 'score': 0.45522863}, {'lemma': 'слеза', 'freq': 17, 'score': 0.43731123}, {'lemma': 'доброта', 'freq': 3, 'score': 0.4592366}, {'lemma': 'прочувствованно', 'freq': 1, 'score': 0.422908}, {'lemma': 'заплаканный', 'freq': 1, 'score': 0.40079218}, {'lemma': 'унывать', 'freq': 2, 'score': 0.40536413}, {'lemma': 'волнение', 'freq': 5, 'score': 0.44726837}, {'lemma': 'дымка', 'freq': 3, 'score': 0.48554462}, {'lemma': 'искренность', 'freq': 1, 'score': 0.44573748}, {'lemma': 'улыбка', 'freq': 11, 'score': 0.4885354}, {'lemma': 'откровенность', 'freq': 1, 'score': 0.4112532}, {'lemma': 'досадливо', 'freq': 1, 'score': 0.42972118}, {'lemma': 'нём', 'freq': 1, 'score': 0.40098393}, {'lemma': 'блаженство', 'freq': 2, 'score': 0.41983795}, {'lemma': 'ужас', 'freq': 10, 'score': 0.4366727}, {'lemma': 'восторг', 'freq': 4, 'score': 0.4572311}, {'lemma': 'уныние', 'freq': 3, 'score': 0.6118295}, {'lemma': 'мучительный', 'freq': 3, 'score': 0.43624488}, {'lemma': 'неловкость', 'freq': 1, 'score': 0.44216588}, {'lemma': 'смущение', 'freq': 1, 'score': 0.49715346}, {'lemma': 'негодование', 'freq': 3, 'score': 0.43351132}, {'lemma': 'тоска', 'freq': 21, 'score': 0.728027}, {'lemma': 'разлука', 'freq': 2, 'score': 0.49935448}, {'lemma': 'унылый', 'freq': 4, 'score': 0.45076892}, {'lemma': 'раскаяние', 'freq': 5, 'score': 0.51496965}, {'lemma': 'полусожалея', 'freq': 1, 'score': 0.44144094}, {'lemma': 'изумлялась', 'freq': 1, 'score': 0.40103823}, {'lemma': 'мечась', 'freq': 1, 'score': 0.41712087}, {'lemma': 'чудиться', 'freq': 3, 'score': 0.44150928}, {'lemma': 'всепрощающие', 'freq': 1, 'score': 0.45505646}, {'lemma': 'слащавость', 'freq': 1, 'score': 0.44847026}, {'lemma': 'насмешка', 'freq': 3, 'score': 0.45254037}, {'lemma': 'соболезнование', 'freq': 1, 'score': 0.45255494}, {'lemma': 'привязанность', 'freq': 4, 'score': 0.42216825}, {'lemma': 'угрызение', 'freq': 1, 'score': 0.49181634}, {'lemma': 'вздохнуть', 'freq': 2, 'score': 0.42360622}, {'lemma': 'нежный', 'freq': 19, 'score': 0.44452772}, {'lemma': 'стыд', 'freq': 5, 'score': 0.42781937}, {'lemma': 'рассеянность', 'freq': 1, 'score': 0.49013358}, {'lemma': 'растерянность', 'freq': 1, 'score': 0.4820113}, {'lemma': 'трогательный', 'freq': 2, 'score': 0.41018096}, {'lemma': 'сладостный', 'freq': 2, 'score': 0.48414838}, {'lemma': 'безнадёжный', 'freq': 1, 'score': 0.42338604}, {'lemma': 'отвращение', 'freq': 5, 'score': 0.4243598}, {'lemma': 'разлуки', 'freq': 1, 'score': 0.440704}, {'lemma': 'снисходительный', 'freq': 2, 'score': 0.40193933}, {'lemma': 'темь', 'freq': 3, 'score': 0.4101943}, {'lemma': 'боль', 'freq': 12, 'score': 0.4264505}, {'lemma': 'любовь', 'freq': 35, 'score': 0.45829114}, {'lemma': 'досада', 'freq': 3, 'score': 0.57199216}, {'lemma': 'горько', 'freq': 2, 'score': 0.42207703}, {'lemma': 'ирония', 'freq': 3, 'score': 0.5267302}, {'lemma': 'подневольность', 'freq': 1, 'score': 0.40610528}, {'lemma': 'нежность', 'freq': 2, 'score': 0.6482074}, {'lemma': 'горевать', 'freq': 1, 'score': 0.44952065}, {'lemma': 'укор', 'freq': 1, 'score': 0.44460914}, {'lemma': 'беспокойство', 'freq': 2, 'score': 0.5306364}, {'lemma': 'жалость', 'freq': 1, 'score': 0.6201625}, {'lemma': 'печаль', 'freq': 3, 'score': 0.76971877}, {'lemma': 'недоплаканным', 'freq': 1, 'score': 0.46030974}]}\n"
     ]
    }
   ],
   "source": [
    "# counts the total number of each emoniton emotional words in corpus\n",
    "from emo_functions import count_emo_words_total_freq\n",
    "\n",
    "count_data = count_emo_words_total_freq(emo_words_data)\n",
    "\n",
    "# save result\n",
    "df = pd.DataFrame(count_data)\n",
    "df.to_csv(\"results/emo_words_count.csv\", index=False)"
   ]
  },
  {
   "cell_type": "code",
   "execution_count": 6,
   "metadata": {},
   "outputs": [
    {
     "name": "stdout",
     "output_type": "stream",
     "text": [
      "HAPPY\n",
      "1 / 10 S115\n",
      "2 / 10 S058\n",
      "3 / 10 S071\n",
      "4 / 10 S028\n",
      "5 / 10 S083\n",
      "6 / 10 S102\n",
      "7 / 10 S016\n",
      "8 / 10 S004\n",
      "9 / 10 S043\n",
      "10 / 10 S093\n",
      "PLEAS\n",
      "1 / 10 S115\n",
      "2 / 10 S058\n",
      "3 / 10 S071\n",
      "4 / 10 S028\n",
      "5 / 10 S083\n",
      "6 / 10 S102\n",
      "7 / 10 S016\n",
      "8 / 10 S004\n",
      "9 / 10 S043\n",
      "10 / 10 S093\n",
      "SAD\n",
      "1 / 10 S115\n",
      "2 / 10 S058\n",
      "3 / 10 S071\n",
      "4 / 10 S028\n",
      "5 / 10 S083\n",
      "6 / 10 S102\n",
      "7 / 10 S016\n",
      "8 / 10 S004\n",
      "9 / 10 S043\n",
      "10 / 10 S093\n"
     ]
    }
   ],
   "source": [
    "# calculate score per each story based on its word values and normalized by the length of the story\n",
    "from emo_functions import get_score_per_story\n",
    "\n",
    "data_per_stories = get_score_per_story(lemmas_per_story_dict, emo_words_data)\n",
    "for emotion in data_per_stories:\n",
    "    df = pd.DataFrame(data_per_stories[emotion])\n",
    "    df.story_emo_score = df.story_emo_score.round(3)\n",
    "    merged_df = pd.merge(df, lemmas_per_story_df[[\"StoryID\", \"FILE NAME\"]], on=\"StoryID\", how=\"left\")\n",
    "    # merged_df = merged_df.reset_index(drop=True)\n",
    "\n",
    "    merged_df.to_csv(f\"results/scores_per_story/{emotion}_per_story.csv\", index=False)\n"
   ]
  },
  {
   "cell_type": "code",
   "execution_count": 8,
   "metadata": {},
   "outputs": [
    {
     "name": "stdout",
     "output_type": "stream",
     "text": [
      "happy\n"
     ]
    }
   ],
   "source": [
    "for emotion in data_per_stories:\n",
    "    print(emotion)"
   ]
  }
 ],
 "metadata": {
  "kernelspec": {
   "display_name": "venv",
   "language": "python",
   "name": "python3"
  },
  "language_info": {
   "codemirror_mode": {
    "name": "ipython",
    "version": 3
   },
   "file_extension": ".py",
   "mimetype": "text/x-python",
   "name": "python",
   "nbconvert_exporter": "python",
   "pygments_lexer": "ipython3",
   "version": "3.10.1"
  }
 },
 "nbformat": 4,
 "nbformat_minor": 2
}
